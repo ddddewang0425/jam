{
 "cells": [
  {
   "cell_type": "code",
   "execution_count": null,
   "id": "1d5532ae",
   "metadata": {},
   "outputs": [
    {
     "name": "stdout",
     "output_type": "stream",
     "text": [
      "When discussing the best beers from South Korea and Japan, there are a few standout options from each country:\n",
      "\n",
      "### South Korean Beers:\n",
      "1. **Cass Fresh**: A popular lager, known for its crisp and light taste, often enjoyed in social settings.\n",
      "2. **Hite**: Another widely consumed lager, praised for its smoothness and refreshing qualities.\n",
      "3. **Magpie Pale Ale**: A craft beer that offers a hoppy flavor profile, made with quality ingredients.\n",
      "4. **The Booth**: Known for its variety of craft beers, including pale ales and IPAs, appealing to modern beer enthusiasts.\n",
      "\n",
      "### Japanese Beers:\n",
      "1. **Asahi Super Dry**: A well-known Japanese lager with a clean and dry finish, very popular both domestically and internationally.\n",
      "2. **Sapporo Premium Beer**: Another classic lager, recognized for its crisp taste and balanced flavor.\n",
      "3. **Kirin Ichiban**: A smooth and light beer with a slightly sweet finish, made from 100% malt.\n",
      "4. **Hitachino Nest White Ale**: A unique craft beer with a blend of spices and citrus flavors, offering a refreshing experience.\n",
      "\n",
      "### Craft Beer Scene:\n",
      "Both countries have growing craft beer scenes, with many breweries producing innovative and diverse styles. Exploring local craft breweries can lead to discovering hidden gems.\n",
      "\n",
      "Ultimately, the \"best\" beer often depends on personal taste preferences and the occasion, so it's worth trying a variety from both countries!\n"
     ]
    }
   ],
   "source": [
    "from openai import OpenAI\n",
    "\n",
    "client = OpenAI(\n",
    "  api_key=\"\"\n",
    ")\n",
    "\n",
    "response = client.responses.create(\n",
    "  model=\"gpt-4o-mini\",\n",
    "  input=\"\"\"<LLM user input scenario>\n",
    "\n",
    "1. 새 요리법 검색 / 내 요리법 사용 / 내 요리법 요약\n",
    "    1. 새 요리법 검색\n",
    "        1. 사용자가 (어떤 요리를 할지 / 자신이 가지고 있는 재료가 무엇인지 /자신의 요리 환경이 어떠한지) 등을 프롬픝트에 입력하면 step by step 요리 레시피(가이드)가 출력된다.\n",
    "            1. 이 상황으로 말미암아 System Prompt에는 “요리 가이드 step이 신뢰할 수 있는 구간으로 구별됨 (혹은 명확한 구분)”을 당부해야 하고(어떠한 step이 완료되었는지를 충분히 정량적으로 구별할 수 있게끔 step을 구분지어야 함), 친절하고 전문적임을 강조해야함. \n",
    "        2. 사용자는 LLM이 추천해준 요리 step에 맞춰서 요리를 진행한다. 이때 사용자는 현재 step을 완료했음을 검수받을 수 있고, 레시피 변경/궁금한 부분에 대해 질의할 수 있다.\n",
    "            1. 이 상황에서 현재 step 완료 검수 / 레시피 변경, 궁금한 부분 질의는 같은 gpt에 의해 진행된다. context를 계속 이은다는 뜻이다.\n",
    "        3. 사용자가 요리 step을 모두 마친다면, 현재 요리법을 내 요리법에 추가할지 말지 정할 수 있다. 만약 추가된 요리법을 공유하고 싶다면, 창작마당(가칭)에 AI generated 혹은 직접 찍은 사진을 썸네일로 하여 요리법을 공유할 수 있다. \n",
    "    2. 내 요리법 사용\n",
    "        1. <전체과정> 사용자가 자신의 요리법에 대한 구체적인 설명을 쿼리로 주면, 저장된 document에서 사용자가 원하는 recipe가 출력된다.\n",
    "        2. LVLM : 요리과정의 image data + 사용자와 주고받은 Q&A text data를 바탕으로 요리 전 과정을 텍스트로 요약하여 document에 삽입한다. & 임베딩하여 vectorDB에 삽입\n",
    "        3. query가 들어오면, vectorDB에서 embedding vector의 dot-product + BLEU를 hybrid하기. → 이후 LLM-as-a-judge로 객관식\n",
    "        \n",
    "        몇 문단 단위로 임베딩을 하고 vector DBd에 chunk_id+vector로 색인\n",
    "        \n",
    "        문서 전체를 chunk단위 요약+짧은요약 임베딩\n",
    "        \n",
    "        latent vector size 작으려면 token size도 작아야만 해서 full document를 임베딩 못하고\n",
    "        \n",
    "        latent vector size 커지면 token size에 비해 담는 정보가 너무 희소해서 잘 비교가 안될 수 있음\n",
    "        \n",
    "        ㅈ같은 점이 BERT 앵간한게 token 이 500개? 1000개? → word로는 한 400개? 600개? 수준이라 ㅅㅂ;; 될지 안될지 모르겠다. token size 맞춰서 잘라내야지 뭐\n",
    "        \n",
    "        그러면 뭐 가중합 해야지 score를\n",
    "        \n",
    "        최종 정렬은 LLM-as-a-judge 사용하고자 함 (객관식)\n",
    "        \n",
    "        BLEU는 중간 scoring 방식(정밀도 주요시)\n",
    "        \n",
    "        평균 내면 되잖아 scale 맞춰서 걍 가중합 내면 끝인데\n",
    "        \n",
    "        하이브리드 없이는 서비스 못냄 모든 서비스가 다 그래 정확도 챙기려면 back test 거쳐서 hybrid\n",
    "        \n",
    "        무조건 설정가능한 하이퍼 파라미터가 있어야함\n",
    "        \n",
    "    3. 내 요리법 요약 / recording\n",
    "\n",
    "    \n",
    "        1.\"\"\",\n",
    "  store=True,\n",
    ")\n",
    "\n",
    "print(response.output_text)\n"
   ]
  },
  {
   "cell_type": "code",
   "execution_count": 4,
   "id": "657d84b0",
   "metadata": {},
   "outputs": [
    {
     "name": "stdout",
     "output_type": "stream",
     "text": [
      "The image shows a wooden boardwalk path running through a lush green grassy field or meadow. The sky is mostly clear with some scattered clouds, and the overall scene appears to be bright and sunny, suggesting a pleasant day. Trees and shrubs can be seen in the background. The boardwalk appears to lead toward the horizon, inviting a walk through the natural landscape.\n"
     ]
    }
   ],
   "source": [
    "response = client.responses.create(\n",
    "    model=\"gpt-4.1-mini\",\n",
    "    input=[{\n",
    "        \"role\": \"user\",\n",
    "        \"content\": [\n",
    "            {\"type\": \"input_text\", \"text\": \"what's in this image?\"},\n",
    "            {\n",
    "                \"type\": \"input_image\",\n",
    "                \"image_url\": \"https://upload.wikimedia.org/wikipedia/commons/thumb/d/dd/Gfp-wisconsin-madison-the-nature-boardwalk.jpg/2560px-Gfp-wisconsin-madison-the-nature-boardwalk.jpg\",\n",
    "            },\n",
    "        ],\n",
    "    }],\n",
    ")\n",
    "\n",
    "print(response.output_text)"
   ]
  }
 ],
 "metadata": {
  "kernelspec": {
   "display_name": "fortest",
   "language": "python",
   "name": "python3"
  },
  "language_info": {
   "name": "python",
   "version": "3.11.13"
  }
 },
 "nbformat": 4,
 "nbformat_minor": 5
}
