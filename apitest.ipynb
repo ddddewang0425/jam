{
 "cells": [
  {
   "cell_type": "code",
   "execution_count": 3,
   "id": "1d5532ae",
   "metadata": {},
   "outputs": [
    {
     "name": "stdout",
     "output_type": "stream",
     "text": [
      "When discussing the best beers from South Korea and Japan, there are a few standout options from each country:\n",
      "\n",
      "### South Korean Beers:\n",
      "1. **Cass Fresh**: A popular lager, known for its crisp and light taste, often enjoyed in social settings.\n",
      "2. **Hite**: Another widely consumed lager, praised for its smoothness and refreshing qualities.\n",
      "3. **Magpie Pale Ale**: A craft beer that offers a hoppy flavor profile, made with quality ingredients.\n",
      "4. **The Booth**: Known for its variety of craft beers, including pale ales and IPAs, appealing to modern beer enthusiasts.\n",
      "\n",
      "### Japanese Beers:\n",
      "1. **Asahi Super Dry**: A well-known Japanese lager with a clean and dry finish, very popular both domestically and internationally.\n",
      "2. **Sapporo Premium Beer**: Another classic lager, recognized for its crisp taste and balanced flavor.\n",
      "3. **Kirin Ichiban**: A smooth and light beer with a slightly sweet finish, made from 100% malt.\n",
      "4. **Hitachino Nest White Ale**: A unique craft beer with a blend of spices and citrus flavors, offering a refreshing experience.\n",
      "\n",
      "### Craft Beer Scene:\n",
      "Both countries have growing craft beer scenes, with many breweries producing innovative and diverse styles. Exploring local craft breweries can lead to discovering hidden gems.\n",
      "\n",
      "Ultimately, the \"best\" beer often depends on personal taste preferences and the occasion, so it's worth trying a variety from both countries!\n"
     ]
    }
   ],
   "source": [
    "from openai import OpenAI\n",
    "\n",
    "client = OpenAI(\n",
    "  api_key=\"\"\n",
    ")\n",
    "\n",
    "response = client.responses.create(\n",
    "  model=\"gpt-4o-mini\",\n",
    "  input=\"What is the best beer made in south korea? including japanese too\",\n",
    "  store=True,\n",
    ")\n",
    "\n",
    "print(response.output_text)\n"
   ]
  }
 ],
 "metadata": {
  "language_info": {
   "name": "python"
  }
 },
 "nbformat": 4,
 "nbformat_minor": 5
}
